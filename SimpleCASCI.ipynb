{
 "cells": [
  {
   "cell_type": "code",
   "execution_count": 1,
   "metadata": {},
   "outputs": [],
   "source": [
    "import numpy as np\n",
    "from itertools import combinations, product\n",
    "from scipy.linalg import eigh"
   ]
  },
  {
   "cell_type": "code",
   "execution_count": 2,
   "metadata": {},
   "outputs": [],
   "source": [
    "h1e = np.load(\"1e.npy\")\n",
    "# (ij|kl) in chemists' notation\n",
    "h2e = np.load(\"2e.npy\")\n",
    "\n",
    "# scf coefficnets, the 1st index is atomic basis, the 2nd index is the molecular orbital\n",
    "# calculated from SimpleSCF.ipynb\n",
    "scf_c = np.load(\"scf.npy\")\n",
    "\n",
    "# basis transformation to canonical HF orbital basis\n",
    "h1e = scf_c.T @ h1e @ scf_c\n",
    "for i in range(4):\n",
    "    h2e = np.tensordot(h2e, scf_c, axes=1).transpose(3, 0, 1, 2)"
   ]
  },
  {
   "cell_type": "code",
   "execution_count": 3,
   "metadata": {},
   "outputs": [],
   "source": [
    "# nuclear repulsion energy\n",
    "e_nuc = 203.030749104\n",
    "\n",
    "# declaration of the spins\n",
    "alpha = \"alpha\"\n",
    "beta  = \"beta\""
   ]
  },
  {
   "cell_type": "code",
   "execution_count": 4,
   "metadata": {},
   "outputs": [],
   "source": [
    "# Table 2.3 and 2.4\n",
    "def elem_case1(active_alpha_list, active_beta_list):\n",
    "    alpha_list = inactive_list + active_alpha_list\n",
    "    beta_list  = inactive_list + active_beta_list\n",
    "    # <O_1>\n",
    "    o1 = h1e[alpha_list, alpha_list].sum() + h1e[beta_list, beta_list].sum()\n",
    "    # <O_2>\n",
    "    # alpha-alpha interaction\n",
    "    m, n = np.array(list(product(alpha_list, alpha_list))).T\n",
    "    o2 = (h2e[m, m, n, n] - h2e[m, n, n, m]).sum()\n",
    "    # alpha-beta interaction\n",
    "    m, n = np.array(list(product(alpha_list, beta_list))).T\n",
    "    o2 += h2e[m, m, n, n].sum()\n",
    "    # beta-alpha interaction\n",
    "    m, n = np.array(list(product(beta_list, alpha_list))).T\n",
    "    o2 += h2e[m, m, n, n].sum()\n",
    "    # beta-beta interaction\n",
    "    m, n = np.array(list(product(beta_list, beta_list))).T\n",
    "    o2 += (h2e[m, m, n, n] - h2e[m, n, n, m]).sum()\n",
    "    o2 /= 2\n",
    "    return o1 + o2"
   ]
  },
  {
   "cell_type": "code",
   "execution_count": 5,
   "metadata": {},
   "outputs": [],
   "source": [
    "# Table 2.3 and 2.4\n",
    "def elem_case2(m, p, active_samespin_list, active_diffspin_list):\n",
    "    # <O_1>\n",
    "    o1 = h1e[m, p]\n",
    "    # <O_2>\n",
    "    # orbitals with the same spins。 Note that m and p must have the same spin due to spin conservation\n",
    "    samespin_list = inactive_list + active_samespin_list\n",
    "    # orbitals with the different (opposite) spins.\n",
    "    diffspin_list = inactive_list + active_diffspin_list\n",
    "    # interaction with the same spins. \n",
    "    o2 = (h2e[m, p, samespin_list, samespin_list] - h2e[m, samespin_list, samespin_list, p]).sum()\n",
    "    # interaction with the different (opposite) spins\n",
    "    o2 += h2e[m, p, diffspin_list, diffspin_list].sum()\n",
    "    return o1 + o2"
   ]
  },
  {
   "cell_type": "code",
   "execution_count": 6,
   "metadata": {},
   "outputs": [],
   "source": [
    "# Table 2.3 and 2.4\n",
    "def elem_case3(m, mspin, n, nspin, p, pspin, q, qspin):\n",
    "    # m, n, p, q has to be ordered\n",
    "    assert m <= n and p <= q\n",
    "    # <O_1> = 0\n",
    "    o1 = 0\n",
    "    # <O_2>\n",
    "    o2 = 0\n",
    "    if mspin == pspin and nspin == qspin:\n",
    "        o2 += h2e[m, p, n, q]\n",
    "    if mspin == qspin and nspin == pspin:\n",
    "        o2 -= h2e[m, q, n, p]\n",
    "    return o1 + o2"
   ]
  },
  {
   "cell_type": "code",
   "execution_count": 7,
   "metadata": {},
   "outputs": [],
   "source": [
    "def count_order(m, mspin, active_alpha_list, active_beta_list):\n",
    "    # count the number of operatorions required to move m to the last position of the orbitals\n",
    "    # For spin-orbitals with the same space-orbital, first alpha then beta\n",
    "    if mspin == alpha:\n",
    "        return (m < np.array(active_alpha_list)).sum() + (m <= np.array(active_beta_list)).sum()\n",
    "    else:\n",
    "        return (m < np.array(active_alpha_list)).sum() + (m <  np.array(active_beta_list)).sum()"
   ]
  },
  {
   "cell_type": "code",
   "execution_count": 8,
   "metadata": {},
   "outputs": [],
   "source": [
    "def get_h_ci(configurations):\n",
    "    # construct CI Hamiltonian\n",
    "    h_ci = np.zeros((len(configurations), len(configurations)))\n",
    "    for i, (active_alpha_list1, active_beta_list1) in enumerate(configurations):\n",
    "        for j, (active_alpha_list2, active_beta_list2) in enumerate(configurations):\n",
    "            # preparations\n",
    "            active_alpha_set1, active_beta_set1, active_alpha_set2, active_beta_set2 \\\n",
    "              = map(set, [active_alpha_list1, active_beta_list1, active_alpha_list2, active_beta_list2])\n",
    "            unique_alpha = active_alpha_set1 | active_alpha_set2\n",
    "            diff_alpha = unique_alpha - (active_alpha_set1 & active_alpha_set2)\n",
    "            unique_beta  = active_beta_set1  | active_beta_set2\n",
    "            diff_beta = unique_beta  -  (active_beta_set1  & active_beta_set2)\n",
    "            total_n_unique = len(unique_alpha) + len(unique_beta)\n",
    "            \n",
    "            # case 1, same state\n",
    "            if total_n_unique == active_n_e:\n",
    "                h_ci[i, j] = elem_case1(active_alpha_list1, active_beta_list1)\n",
    "                continue\n",
    "            # case 2, differ by 1 orbital\n",
    "            if total_n_unique == active_n_e + 1:\n",
    "                if n_active_alpha < len(unique_alpha):\n",
    "                    # different spin-orbital is alpha\n",
    "                    m = (unique_alpha - active_alpha_set2).pop()\n",
    "                    p = (unique_alpha - active_alpha_set1).pop()\n",
    "                    mspin = pspin = alpha\n",
    "                    elem = elem_case2(m, p, active_alpha_list1, active_beta_list1)\n",
    "                else:\n",
    "                    # different spin-orbital is beta\n",
    "                    m = (unique_beta  - active_beta_set2).pop()\n",
    "                    p = (unique_beta  - active_beta_set1).pop()\n",
    "                    mspin = pspin = beta\n",
    "                    elem = elem_case2(m, p, active_beta_list1, active_alpha_list1)\n",
    "                # move the different orbital to the last position of the orbitals\n",
    "                sign = (-1) ** (count_order(m, mspin, active_alpha_list1, active_beta_list1) + count_order(p, pspin, active_alpha_list2, active_beta_list2))\n",
    "                h_ci[i, j] = sign * elem\n",
    "                continue\n",
    "            # case 3, differ by 2 orbitals\n",
    "            if total_n_unique == active_n_e + 2:\n",
    "                if diff_alpha and not diff_beta:\n",
    "                    # different orbitals are all alpha\n",
    "                    m, n = sorted(unique_alpha - active_alpha_set2)\n",
    "                    p, q = sorted(unique_alpha - active_alpha_set1)\n",
    "                    mspin = nspin = pspin = qspin = alpha\n",
    "                elif not diff_alpha and diff_beta:\n",
    "                    # different orbitals are all beta\n",
    "                    m, n = sorted(unique_beta - active_beta_set2)\n",
    "                    p, q = sorted(unique_beta - active_beta_set1)\n",
    "                    mspin = nspin = pspin = qspin = beta\n",
    "                elif diff_alpha and diff_beta:\n",
    "                    # different orbtals half alpha half beta\n",
    "                    m = (unique_alpha - active_alpha_set2).pop()\n",
    "                    n = (unique_beta  - active_beta_set2 ).pop()\n",
    "                    mspin, nspin = alpha, beta\n",
    "                    if n < m:\n",
    "                        m, n = n, m\n",
    "                        mspin, nspin = nspin, mspin\n",
    "                    p = (unique_alpha - active_alpha_set1).pop()\n",
    "                    q = (unique_beta  - active_beta_set1 ).pop()\n",
    "                    pspin, qspin = alpha, beta\n",
    "                    if q < p:\n",
    "                        p, q = q, p\n",
    "                        pspin, qspin = qspin, pspin\n",
    "                else:\n",
    "                    assert False\n",
    "                elem = elem_case3(m, mspin, n, nspin, p, pspin,  q, qspin)\n",
    "                # move the different orbitals to the last two positions of the orbitals\n",
    "                total_sign_count = count_order(m, mspin, active_alpha_list1, active_beta_list1) \\\n",
    "                                 + count_order(n, nspin, active_alpha_list1, active_beta_list1) \\\n",
    "                                 + count_order(p, pspin, active_alpha_list2, active_beta_list2) \\\n",
    "                                 + count_order(q, qspin, active_alpha_list2, active_beta_list2)\n",
    "                # `-2` is because the last two positions are occupied. One less operation for each of K and L.\n",
    "                sign = (-1) ** (total_sign_count - 2)\n",
    "                h_ci[i, j] = sign * elem\n",
    "    return h_ci"
   ]
  },
  {
   "cell_type": "code",
   "execution_count": 9,
   "metadata": {},
   "outputs": [
    {
     "data": {
      "text/plain": [
       "array([-227.99524406, -227.84865301])"
      ]
     },
     "execution_count": 9,
     "metadata": {},
     "output_type": "execute_result"
    }
   ],
   "source": [
    "active_space = [16, 19, 20, 21, 22, 23]\n",
    "inactive_list = list(range(16)) + [17, 18]\n",
    "n_active_alpha = 3\n",
    "n_active_beta  = 3\n",
    "alpha_combinations = list(map(list, combinations(active_space, n_active_alpha)))\n",
    "beta_combinations  = list(map(list, combinations(active_space, n_active_beta)))\n",
    "configurations = list(product(alpha_combinations, beta_combinations))\n",
    "active_n_e = n_active_alpha + n_active_beta\n",
    "h_ci = get_h_ci(configurations)\n",
    "np.linalg.eigvalsh(h_ci)[:2] + e_nuc"
   ]
  },
  {
   "cell_type": "code",
   "execution_count": 10,
   "metadata": {},
   "outputs": [
    {
     "data": {
      "text/plain": [
       "array([-227.84865301, -227.78892865])"
      ]
     },
     "execution_count": 10,
     "metadata": {},
     "output_type": "execute_result"
    }
   ],
   "source": [
    "active_space = [16, 19, 20, 21, 22, 23]\n",
    "inactive_list = list(range(16)) + [17, 18]\n",
    "n_active_alpha = 4\n",
    "n_active_beta  = 2\n",
    "alpha_combinations = list(map(list, combinations(active_space, n_active_alpha)))\n",
    "beta_combinations  = list(map(list, combinations(active_space, n_active_beta)))\n",
    "configurations = list(product(alpha_combinations, beta_combinations))\n",
    "active_n_e = n_active_alpha + n_active_beta\n",
    "h_ci = get_h_ci(configurations)\n",
    "np.linalg.eigvalsh(h_ci)[:2] + e_nuc"
   ]
  },
  {
   "cell_type": "code",
   "execution_count": null,
   "metadata": {},
   "outputs": [],
   "source": []
  }
 ],
 "metadata": {
  "kernelspec": {
   "display_name": "Python [conda env:py37]",
   "language": "python",
   "name": "conda-env-py37-py"
  },
  "language_info": {
   "codemirror_mode": {
    "name": "ipython",
    "version": 3
   },
   "file_extension": ".py",
   "mimetype": "text/x-python",
   "name": "python",
   "nbconvert_exporter": "python",
   "pygments_lexer": "ipython3",
   "version": "3.7.1"
  }
 },
 "nbformat": 4,
 "nbformat_minor": 2
}

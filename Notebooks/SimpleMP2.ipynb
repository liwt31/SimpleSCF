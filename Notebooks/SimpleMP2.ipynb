{
 "cells": [
  {
   "cell_type": "code",
   "execution_count": 1,
   "metadata": {},
   "outputs": [],
   "source": [
    "import numpy as np"
   ]
  },
  {
   "cell_type": "code",
   "execution_count": 2,
   "metadata": {},
   "outputs": [],
   "source": [
    "# (ij|kl) in chemists' notation\n",
    "h2e = np.load(\"2e.npy\")\n",
    "\n",
    "# scf coefficnets, the 1st index is atomic basis, the 2nd index is the molecular orbital\n",
    "# `scf.npz` is calculated from SimpleSCF.ipynb\n",
    "scf_npz = np.load(\"scf.npz\")\n",
    "scf_c = scf_npz[\"mo_coef\"]\n",
    "scf_e = scf_npz[\"mo_energy\"]\n",
    "scf_e_tot = scf_npz[\"e_tot\"]\n",
    "\n",
    "# basis transformation to canonical HF orbital basis\n",
    "for i in range(4):\n",
    "    h2e = np.tensordot(h2e, scf_c, axes=1).transpose(3, 0, 1, 2)\n",
    "# transform to physics' notation, <ik|jl> = (ij|kl)\n",
    "h2e = h2e.transpose(0, 2, 1, 3)"
   ]
  },
  {
   "cell_type": "code",
   "execution_count": 3,
   "metadata": {},
   "outputs": [],
   "source": [
    "# number of orbitals\n",
    "K = h2e.shape[0]\n",
    "# number of electrons\n",
    "N = 6 * 6 + 6"
   ]
  },
  {
   "cell_type": "code",
   "execution_count": 4,
   "metadata": {},
   "outputs": [],
   "source": [
    "# Eq.6.74\n",
    "\n",
    "# <ab|rs>\n",
    "h2e_abrs = h2e[:N//2, :N//2, N//2:, N//2:]\n",
    "# <rs|ab>\n",
    "h2e_rsab = h2e[N//2:, N//2:, :N//2, :N//2]\n",
    "# <rs|ba>\n",
    "h2e_rsba = h2e[N//2:, N//2:, :N//2, :N//2]\n",
    "\n",
    "ea = scf_e[:N//2].reshape(-1, 1, 1, 1)\n",
    "eb = scf_e[:N//2].reshape(1, -1, 1, 1)\n",
    "er = scf_e[N//2:].reshape(1, 1, -1, 1)\n",
    "es = scf_e[N//2:].reshape(1, 1, 1, -1)\n",
    "denominator = ea + eb - er - es\n",
    "\n",
    "e2 = 2 * (h2e_abrs / denominator).ravel() @ h2e_rsab.transpose(2, 3, 0, 1).ravel() - (h2e_abrs / denominator).ravel() @ h2e_rsba.transpose(3, 2, 0, 1).ravel()"
   ]
  },
  {
   "cell_type": "code",
   "execution_count": 5,
   "metadata": {},
   "outputs": [
    {
     "data": {
      "text/plain": [
       "(-228.24274700716512, -0.35333708342039505)"
      ]
     },
     "execution_count": 5,
     "metadata": {},
     "output_type": "execute_result"
    }
   ],
   "source": [
    "scf_e_tot + e2, e2"
   ]
  }
 ],
 "metadata": {
  "kernelspec": {
   "display_name": "Python [conda env:py37]",
   "language": "python",
   "name": "conda-env-py37-py"
  },
  "language_info": {
   "codemirror_mode": {
    "name": "ipython",
    "version": 3
   },
   "file_extension": ".py",
   "mimetype": "text/x-python",
   "name": "python",
   "nbconvert_exporter": "python",
   "pygments_lexer": "ipython3",
   "version": "3.7.1"
  }
 },
 "nbformat": 4,
 "nbformat_minor": 2
}

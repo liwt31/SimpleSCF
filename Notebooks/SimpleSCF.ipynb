{
 "cells": [
  {
   "cell_type": "code",
   "execution_count": 1,
   "metadata": {},
   "outputs": [],
   "source": [
    "import numpy as np\n",
    "from scipy.linalg import eigh"
   ]
  },
  {
   "cell_type": "code",
   "execution_count": 2,
   "metadata": {},
   "outputs": [
    {
     "data": {
      "text/plain": [
       "((36, 36), (36, 36, 36, 36), (36, 36))"
      ]
     },
     "execution_count": 2,
     "metadata": {},
     "output_type": "execute_result"
    }
   ],
   "source": [
    "h1e = np.load(\"1e.npy\")\n",
    "# (ij|kl) in chemists' notation\n",
    "h2e = np.load(\"2e.npy\")\n",
    "s = np.load(\"S.npy\")\n",
    "\n",
    "h1e.shape, h2e.shape, s.shape"
   ]
  },
  {
   "cell_type": "code",
   "execution_count": 3,
   "metadata": {},
   "outputs": [],
   "source": [
    "# number of orbitals\n",
    "K = h1e.shape[0]\n",
    "# number of electrons\n",
    "N = 6 * 6 + 6\n",
    "\n",
    "# nuclear repulsion energy\n",
    "e_nuc = 203.030749104"
   ]
  },
  {
   "cell_type": "code",
   "execution_count": 4,
   "metadata": {},
   "outputs": [
    {
     "name": "stdout",
     "output_type": "stream",
     "text": [
      "Iter[01]: energy is -207.75093309367566\n",
      "Iter[02]: energy is -224.1507553682997\n",
      "Iter[03]: energy is -227.80741729145115\n",
      "Iter[04]: energy is -227.88845729031078\n",
      "Iter[05]: energy is -227.88938287389027\n",
      "Iter[06]: energy is -227.88940863291725\n",
      "Iter[07]: energy is -227.88940983913147\n",
      "Iter[08]: energy is -227.8894099140096\n",
      "Iter[09]: energy is -227.8894099216688\n",
      "Iter[10]: energy is -227.88940992315605\n",
      "Iter[11]: energy is -227.8894099235634\n",
      "Iter[12]: energy is -227.8894099236872\n",
      "Iter[13]: energy is -227.8894099237259\n",
      "Iter[14]: energy is -227.8894099237384\n",
      "Iter[15]: energy is -227.88940992374268\n",
      "Iter[16]: energy is -227.88940992374393\n",
      "Iter[17]: energy is -227.88940992374438\n",
      "Iter[18]: energy is -227.88940992374455\n",
      "Iter[19]: energy is -227.88940992374484\n",
      "Iter[20]: energy is -227.88940992374455\n",
      "Iter[21]: energy is -227.8894099237446\n",
      "Iter[22]: energy is -227.88940992374472\n",
      "Iter[23]: energy is -227.88940992374472\n",
      "Iter[24]: energy is -227.88940992374478\n",
      "Iter[25]: energy is -227.88940992374484\n",
      "Iter[26]: energy is -227.88940992374484\n",
      "Iter[27]: energy is -227.8894099237449\n",
      "Iter[28]: energy is -227.88940992374478\n",
      "Iter[29]: energy is -227.88940992374472\n",
      "Iter[30]: energy is -227.88940992374472\n"
     ]
    }
   ],
   "source": [
    "# initial guess, P148\n",
    "f = h1e\n",
    "for i in range(30):\n",
    "    # Eq 3.139\n",
    "    evals, evecs = eigh(f, s)\n",
    "    # Eq 3.145\n",
    "    p = 2 * evecs[:, :N//2] @ evecs[:, :N//2].T\n",
    "    # Eq 3.154\n",
    "    g = (h2e - 1/2 * h2e.transpose(0, 3, 2, 1)).reshape(K**2, K**2) @ p.ravel()\n",
    "    g = g.reshape(K, K)\n",
    "    f = h1e + g\n",
    "    # Eq 3.184\n",
    "    e = 1/2 * p.ravel() @ (h1e + f).ravel()\n",
    "    print(f\"Iter[{i+1:02}]: energy is {e + e_nuc}\")"
   ]
  },
  {
   "cell_type": "code",
   "execution_count": 5,
   "metadata": {},
   "outputs": [
    {
     "data": {
      "text/plain": [
       "array([-11.02929765, -11.02929589, -11.02926943, -11.02894125,\n",
       "       -11.02894005, -11.02879599,  -1.08911649,  -0.95262062,\n",
       "        -0.95257482,  -0.76317548,  -0.76312413,  -0.65724257,\n",
       "        -0.58759744,  -0.55242615,  -0.53040735,  -0.53038723,\n",
       "        -0.4557232 ,  -0.42995729,  -0.42986511,  -0.27940656,\n",
       "        -0.27933612,   0.2692481 ,   0.26933846,   0.50428224,\n",
       "         0.56473195,   0.63647192,   0.63659633,   0.70674251,\n",
       "         0.72600377,   0.72606876,   0.87495055,   0.87504061,\n",
       "         0.89399916,   0.89417322,   1.08777575,   1.14436884])"
      ]
     },
     "execution_count": 5,
     "metadata": {},
     "output_type": "execute_result"
    }
   ],
   "source": [
    "evals"
   ]
  },
  {
   "cell_type": "code",
   "execution_count": 6,
   "metadata": {},
   "outputs": [],
   "source": [
    "np.savez(\"scf.npz\", mo_coef=evecs, mo_energy=evals, e_tot=e+e_nuc)"
   ]
  },
  {
   "cell_type": "code",
   "execution_count": null,
   "metadata": {},
   "outputs": [],
   "source": []
  }
 ],
 "metadata": {
  "kernelspec": {
   "display_name": "Python [conda env:py37]",
   "language": "python",
   "name": "conda-env-py37-py"
  },
  "language_info": {
   "codemirror_mode": {
    "name": "ipython",
    "version": 3
   },
   "file_extension": ".py",
   "mimetype": "text/x-python",
   "name": "python",
   "nbconvert_exporter": "python",
   "pygments_lexer": "ipython3",
   "version": "3.7.1"
  }
 },
 "nbformat": 4,
 "nbformat_minor": 2
}
